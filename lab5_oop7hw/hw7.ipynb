{
 "cells": [
  {
   "cell_type": "markdown",
   "metadata": {},
   "source": [
    "### <font color=darkred>Упражнение 1. Векторное произведение</font>\n",
    "\n",
    "Перегрузите оператор `@` так, чтобы при его применении к экземплярам класса `Vector` вычислялось векторное произведение. \n",
    "\n",
    "#### Пример использования оператора `@`:\n",
    "```python\n",
    ">>> v1 = Vector(1, 0, 0)\n",
    ">>> v2 = Vector(0, 1, 0)\n",
    ">>> v3 = v1 @ v2\n",
    ">>> print(v3)\n",
    "<0, 0, 1>\n",
    ">>> v4 = v2 @ v1\n",
    ">>> print(v4)\n",
    "<0, 0, -1>\n",
    "```"
   ]
  },
  {
   "cell_type": "code",
   "execution_count": 6,
   "metadata": {},
   "outputs": [],
   "source": [
    "class Vector:\n",
    "    def __init__(self, x, y, z):\n",
    "        self.x = x\n",
    "        self.y = y\n",
    "        self.z = z\n",
    "    def __matmul__(v1, v2):\n",
    "        new_x = v2.z * v1.y - v2.y * v1.z\n",
    "        new_y = v2.x * v1.z - v2.z * v1.x\n",
    "        new_z = v2.y * v1.x - v2.x * v1.y\n",
    "        return Vector(new_x, new_y, new_z)\n",
    "    \n",
    "    def __str__(self):\n",
    "        # f-строки поддерживаются, начиная с Python версии 3.6.\n",
    "        # Если у Вас версия Python < 3.6 используйте\n",
    "        # метод `str.format()`.\n",
    "        #s = f\"<{self.x}, {self.y}, {self.z}>\"\n",
    "        s = \"<{}, {}, {}>\".format(self.x, self.y, self.z)\n",
    "        return s"
   ]
  },
  {
   "cell_type": "code",
   "execution_count": 7,
   "metadata": {},
   "outputs": [
    {
     "name": "stdout",
     "output_type": "stream",
     "text": [
      "<0, 0, 1>\n"
     ]
    }
   ],
   "source": [
    "v1 = Vector(1, 0, 0)\n",
    "v2 = Vector(0, 1, 0)\n",
    "v3 = v1 @ v2\n",
    "print(v3)\n"
   ]
  },
  {
   "cell_type": "markdown",
   "metadata": {},
   "source": [
    "# <font color=blue>Операторы `()`, `[]`</font>\n",
    "\n",
    "## <font color=green>Как сделать экземпляры класса вызываемыми</font>\n",
    "\n",
    "Если у класса есть метод `__call__()`, то объекты этого класса можно вызывать, как функции. \n",
    "\n",
    "### Пример 1"
   ]
  },
  {
   "cell_type": "code",
   "execution_count": 8,
   "metadata": {},
   "outputs": [
    {
     "name": "stdout",
     "output_type": "stream",
     "text": [
      "You called me with arguments 1 2!\n"
     ]
    }
   ],
   "source": [
    "class CallOpOverload:\n",
    "    def __call__(self, x, y):\n",
    "        print(\"You called me with arguments {} {}!\".format(x, y))\n",
    "        \n",
    "obj = CallOpOverload()\n",
    "obj(1, 2)"
   ]
  },
  {
   "cell_type": "markdown",
   "metadata": {},
   "source": [
    "Функции и методы -- это еще 2 типа объектов, у которых есть метод `__call__()`. У метода `__call__()` тоже есть метод `__call__()`. И так до бесконечности."
   ]
  },
  {
   "cell_type": "code",
   "execution_count": 9,
   "metadata": {},
   "outputs": [
    {
     "name": "stdout",
     "output_type": "stream",
     "text": [
      "<method-wrapper '__call__' of function object at 0x7f0eb457cc80>\n",
      "<method-wrapper '__call__' of method-wrapper object at 0x7f0eb4583278>\n"
     ]
    }
   ],
   "source": [
    "def f(x):\n",
    "    print(\"x:\", x)\n",
    "\n",
    "print(f.__call__)\n",
    "print(f.__call__.__call__)"
   ]
  },
  {
   "cell_type": "code",
   "execution_count": null,
   "metadata": {
    "scrolled": true
   },
   "outputs": [],
   "source": [
    "f.__call__.__call__(1)"
   ]
  },
  {
   "cell_type": "markdown",
   "metadata": {},
   "source": [
    "## <font color=green>Как сделать экземпляры класса индексируемыми</font>\n",
    "\n",
    "Можно создать класс, чьи экземпляры будут индексируемыми, то есть будет возможность доступа к данным с помощью квадратных скобок `[]`. Иначе говоря, можно имитировать список или словарь. Оператор `[]` настраивается с помощью методов `__setitem__()`, `__getitem__()` и `__delitem__()`.\n",
    "\n",
    "1. Метод `__setitem__(self, key, value)` присваивает новое значение элементу. Вызывается, если квадратные скобки стоят слева от оператора присваивания.\n",
    "```python\n",
    "obj[key] = value\n",
    "```\n",
    "\n",
    "- Метод `__getitem__(self, key)` возвращает значение элемента. Вызывается при получении значения элемента: элемент справа от оператора присваивания, элемент в качестве аргумента функции или операнда.\n",
    "```python\n",
    "s = 2 + obj[key]\n",
    "print(obj[key])\n",
    "```\n",
    "\n",
    "- Метод `__delitem__(self, key)` удаляет элемент. Вызывается, если элемент стоит после слова `del`.\n",
    "```python\n",
    "del obj[key]\n",
    "```\n",
    "\n",
    "### Пример 2. Имитация списка"
   ]
  },
  {
   "cell_type": "code",
   "execution_count": 10,
   "metadata": {},
   "outputs": [
    {
     "name": "stdout",
     "output_type": "stream",
     "text": [
      "[1, 2, 3]\n",
      "[10, 2, 3]\n",
      "[10, 3]\n",
      "3\n"
     ]
    }
   ],
   "source": [
    "class ListImitation:\n",
    "    def __init__(self, data_init):\n",
    "        self._data = list(data_init)\n",
    "    \n",
    "    def __setitem__(self, key, value):\n",
    "        self._data[key] = value\n",
    "    \n",
    "    def __getitem__(self, key):\n",
    "        return self._data[key]\n",
    "    \n",
    "    def __delitem__(self, key):\n",
    "        del self._data[key]\n",
    "    \n",
    "    def __str__(self):\n",
    "        return str(self._data)\n",
    "\n",
    "\n",
    "li = ListImitation((1, 2, 3))\n",
    "print(li)\n",
    "li[0] = 10\n",
    "print(li)\n",
    "del li[1]\n",
    "print(li)\n",
    "print(li[-1])"
   ]
  },
  {
   "cell_type": "markdown",
   "metadata": {},
   "source": [
    "### Пример 3. Имитация словаря"
   ]
  },
  {
   "cell_type": "code",
   "execution_count": 11,
   "metadata": {
    "scrolled": true
   },
   "outputs": [
    {
     "name": "stdout",
     "output_type": "stream",
     "text": [
      "{'a': 'b', (1, 2): 3, 'foo': 'bar'}\n",
      "{'a': 10, (1, 2): 3, 'foo': 'bar'}\n",
      "{(1, 2): 3, 'foo': 'bar'}\n",
      "3\n"
     ]
    }
   ],
   "source": [
    "class DictImitation:\n",
    "    def __init__(self, data_init):\n",
    "        self._data = dict(data_init)\n",
    "    \n",
    "    def __setitem__(self, key, value):\n",
    "        self._data[key] = value\n",
    "    \n",
    "    def __getitem__(self, key):\n",
    "        return self._data[key]\n",
    "    \n",
    "    def __delitem__(self, key):\n",
    "        del self._data[key]\n",
    "    \n",
    "    def __str__(self):\n",
    "        return str(self._data)\n",
    "    \n",
    "\n",
    "di = DictImitation({'a': 'b', (1, 2): 3, 'foo': 'bar'})\n",
    "print(di)\n",
    "di['a'] = 10\n",
    "print(di)\n",
    "del di['a']\n",
    "print(di)\n",
    "print(di[(1, 2)])"
   ]
  },
  {
   "cell_type": "markdown",
   "metadata": {},
   "source": [
    "### Упражнение 2. Многочлен\n",
    "\n",
    "Создайте класс `Polynomial`, имитирующий многочлен одной переменной $x$. \n",
    "\n",
    "Для объектов класса `Polynomial` должны быть определены операторы \n",
    "\n",
    "- сложения `+`, \n",
    "\n",
    "- вычитания `-`, \n",
    "\n",
    "- унарного отрицания `-` (метод `__neg__(self)`),\n",
    "\n",
    "- умножения `*`.\n",
    "\n",
    "- возведения в степень `**` (только для целых неотрицательных чисел).\n",
    "\n",
    "Конструктор должен поддерживать 2 типа входных данных: список и словарь. Если на вход подается список, то этот список содержит коэффициенты членов. Если на вход подан словарь, то ключи словаря -- степени переменной $x$, а значения -- коэффициенты при соответствующих членах.\n",
    "\n",
    "Добавьте методы:\n",
    "\n",
    "- `__str__()` для красивой печати;\n",
    "\n",
    "- `__getitem__()` для получения коэффициента (метод `__getitem__()` должен возвращать `0`, если в многочлене нет искомого слагаемого); \n",
    "\n",
    "- `__setitem__()` для добавления члена или изменения кооэффициента;\n",
    "\n",
    "- `__delitem__()` для удаления члена;\n",
    "\n",
    "- `__call__(self, value)` для вычисления многочлена при $x = \\text{value}$.\n",
    "\n",
    "\n",
    "Задокументируйте сам класс и методы `__init__()`, `__call__()`, `__getitem__()` `__pow__()`. Руководствуйтесь [PEP 257](https://www.python.org/dev/peps/pep-0257/).\n",
    "\n",
    "\n",
    "#### Примеры использования\n",
    "```python\n",
    ">>> p1 = Polynomial([2, 1])\n",
    ">>> p2 = Polynomial({0: -2, 1: 1})\n",
    ">>> print(p1)\n",
    "x + 2\n",
    ">>> print(p2)\n",
    "x - 2\n",
    ">>> print(p1 + p2)\n",
    "2*x\n",
    ">>> print(p1 - p2)\n",
    "4\n",
    ">>> print(-p1 + p2)\n",
    "-4\n",
    ">>> print(p1 * p2)\n",
    "x^2 - 4\n",
    ">>> print(p1 ** 2)\n",
    "x^2 + 4*x + 4\n",
    ">>> print(p2 ** 3)\n",
    "x^3 - 6*x^2 + 12*x - 8\n",
    ">>> print(p2 ** 0)\n",
    "1\n",
    ">>> del p1[1]\n",
    ">>> print(p1)\n",
    "2\n",
    ">>> p1[1] = -1\n",
    ">>> print(p1)\n",
    "-x + 2\n",
    ">>> print(p1[0])\n",
    "2\n",
    ">>> p3 = p1 * p2\n",
    ">>> print(p3)\n",
    "-x^2 + 4*x - 4\n",
    ">>> a = p3(0.5)\n",
    ">>> print(a)\n",
    "-2.25\n",
    ">>> p3[10]\n",
    "0\n",
    "```"
   ]
  },
  {
   "cell_type": "code",
   "execution_count": 50,
   "metadata": {},
   "outputs": [],
   "source": [
    "class Polynomial:\n",
    "    \"\"\"Класс \"многочлен\" \n",
    "    \n",
    "    поддерживает 2 типа  входных данных: список, содержащий коэффициенты, \n",
    "    и словарь, в котором ключи являются степенями.\n",
    "    Определены операции:\n",
    "- сложения `+`, \n",
    "- вычитания `-`, \n",
    "- унарного отрицания `-` (метод `__neg__(self)`),\n",
    "- умножения `*`.\n",
    "- возведения в степень `**` (только для целых неотрицательных чисел).\"\"\"\n",
    "    \n",
    "    def __init__(self, date):\n",
    "        \"Преобразует входные данные к списку с коэффициентами \"\n",
    "        if type(date) is dict:\n",
    "            stepeni = list(date)\n",
    "            new_date = list(0 for i in range(max(c) + 1))\n",
    "            for i in stepeni:\n",
    "                new_date[i] = date[i]\n",
    "            date = new_date\n",
    "        self.date = date\n",
    "    \n",
    "    def __neg__(self):\n",
    "        new_p = list(0 for i in range(len(self.date)))\n",
    "        for i in range(len(new_p)):\n",
    "            new_p[i] = self.date[i] * (-1) \n",
    "        return Polynomial(new_p)\n",
    "        \n",
    "    \n",
    "    \n",
    "    \n",
    "    def __add__(p1, p2):\n",
    "        new_p = list(0 for i in range(max(len(p1.date), len(p2.date))))\n",
    "        for i in range(len(new_p)):\n",
    "            if i<len(p1.date) and i<len(p2.date):\n",
    "                new_p[i] = p1.date[i] + p2.date[i]  \n",
    "            elif i>=len(p2.date):\n",
    "                new_p[i] = p1.date[i]\n",
    "            else:\n",
    "                new_p[i] = pi.date[i]\n",
    "        \n",
    "        \n",
    "        i=len(new_p)-1\n",
    "        while i>0:\n",
    "            if new_p[i] !=0:\n",
    "                break\n",
    "            new_p.pop()\n",
    "            i-=1\n",
    "        return Polynomial(new_p)\n",
    "    \n",
    "    def __sub__(p1, p2):\n",
    "        new_p = p1 + (-p2)\n",
    "        \n",
    "        return new_p\n",
    "  \n",
    "    def __str__(self):\n",
    "        s = \"\"\n",
    "        for i in reversed(range(len(self.date))):\n",
    "            if self.date[i] == 0:\n",
    "                continue\n",
    "                \n",
    "            b = \"\" if (abs(self.date[i])==1 and i!=0) else \"{}\".format(self.date[i])\n",
    "            \n",
    "            if self.date[i] > 0 and i!=len(self.date)-1:\n",
    "                a = \"+\"\n",
    "            elif i==len(self.date)-1 and self.date[i] > 0 :\n",
    "                a = \"\"\n",
    "            else:\n",
    "                a = b[0]\n",
    "            if self.date[i]<0:\n",
    "                b=b[1:]\n",
    "            \n",
    "            c = \"\" if i == 1 or i==0 else \"^\"\n",
    "            d = \"{}\".format(str(i)) if (i!=1 and i!=0) else \"\"\n",
    "            \n",
    "            s += \"{} {}x{}{} \".format(a,b,c,d) if i!=0 else \"{} {}\".format(a,b)\n",
    "        return s\n",
    "            \n",
    "    def __mul__(p1, p2):\n",
    "        new_p = list(0 for i in range(len(p1.date) + (len(p2.date)-1)))\n",
    "        for i in range(len(p1.date)):\n",
    "            for j in range(len(p2.date)):\n",
    "                new_p[i+j] += p1.date[i] * p2.date[j]\n",
    "        i=len(new_p)-1\n",
    "        while i>0:\n",
    "            if new_p[i] !=0:\n",
    "                break\n",
    "            new_p.pop()\n",
    "            i-=1\n",
    "        \n",
    "        return Polynomial(new_p)\n",
    "    \n",
    "    def __pow__(self, modulo):\n",
    "        new_p = Polynomial([1])\n",
    "        for i in range(modulo):\n",
    "            new_p = new_p * self\n",
    "        return new_p\n",
    "    def __getitem__(self, stepen):\n",
    "        return self.date[stepen]\n",
    "    def __setitem__(self,index,value):\n",
    "        if index > len(self.date):\n",
    "            self.date = self.date + list(0 for i in range(index - len(self.date)+1))\n",
    "        self.date[index] = value\n",
    "    def __delitem__(self,key):\n",
    "        self.date[key]=0\n",
    "        \n",
    "    def __call__(self, value):\n",
    "        znach = 0\n",
    "        for i in range(len(self.date)):\n",
    "            znach+= self.date[i] * value**i\n",
    "        return znach\n",
    "        \n",
    "        \n",
    "            "
   ]
  },
  {
   "cell_type": "code",
   "execution_count": 52,
   "metadata": {},
   "outputs": [
    {
     "name": "stdout",
     "output_type": "stream",
     "text": [
      "10\n",
      " 5x^2 + x \n",
      "- 5x^2 - 4x - 1\n",
      " 3x^5 + 5x^2 + 4x + 1\n",
      " 3x^5 + 7x^2 + 4x + 1\n",
      " 3x^5 + 4x + 1\n",
      "8\n"
     ]
    }
   ],
   "source": [
    "p1 = Polynomial([1,4,5])\n",
    "p2 = Polynomial([1,3])\n",
    "p3 = p1 - p2\n",
    "print(p1(1))\n",
    "print(p3)\n",
    "print(-p1)\n",
    "p1[5] = 3\n",
    "print(p1)\n",
    "p1[2]=7\n",
    "print(p1)\n",
    "del p1[2]\n",
    "print(p1)\n",
    "print(p1(1))\n"
   ]
  },
  {
   "cell_type": "code",
   "execution_count": 32,
   "metadata": {},
   "outputs": [
    {
     "name": "stdout",
     "output_type": "stream",
     "text": [
      "[0, 0]\n",
      "[0, 0, 0]\n",
      "[0, 0, 0, 0]\n",
      " 64x^3 + 48x^2 + 12x + 1\n",
      "48\n",
      "[0, 1, 2, 3, 0, 0, 0, 0]\n"
     ]
    }
   ],
   "source": [
    "p1 = Polynomial([1,4])\n",
    "p2 = p1**3\n",
    "print(p2)\n",
    "print(p2[2])\n",
    "a=[0,1,2,3]\n",
    "index = 7\n",
    "c = a + list(0 for i in range(index - len(a)+1)) \n",
    "print(c)"
   ]
  },
  {
   "cell_type": "code",
   "execution_count": 170,
   "metadata": {},
   "outputs": [
    {
     "name": "stdout",
     "output_type": "stream",
     "text": [
      "11\n"
     ]
    }
   ],
   "source": [
    "a=[0,1,2,3,4,5,6,7]\n",
    "b = [0,1,2,3]\n",
    "i = len(a)-1\n",
    "new_p = list(0 for i in range(len(a)  + len(b)-1))\n",
    "print(len(new_p))"
   ]
  },
  {
   "cell_type": "code",
   "execution_count": 94,
   "metadata": {},
   "outputs": [
    {
     "name": "stdout",
     "output_type": "stream",
     "text": [
      "4\n",
      "3\n",
      "[12, 15, 9, 5]\n",
      "3\n",
      "5\n",
      "2\n",
      "9\n",
      "1\n",
      "15\n",
      "0\n",
      "12\n"
     ]
    }
   ],
   "source": [
    "p1=[5,6,4,5]\n",
    "p2 = [7,9,5]\n",
    "print(len(p1))\n",
    "print(len(p2))\n",
    "new_p=list(0 for i in range(max(len(p1), len(p2))))\n",
    "for i in range(len(new_p)):\n",
    "    if i<len(p1) and i<len(p2):\n",
    "        new_p[i] = p1[i] + p2[i]  \n",
    "    elif i>=len(p2):\n",
    "        new_p[i] = p1[i]\n",
    "    else:\n",
    "        new_p[i] = p2[i]\n",
    "print(new_p)\n",
    "for i in reversed(range(len(new_p))):\n",
    "    print(i)\n",
    "    print(new_p[i])"
   ]
  },
  {
   "cell_type": "code",
   "execution_count": null,
   "metadata": {},
   "outputs": [],
   "source": [
    "p1 = Polynomial([2, 1])\n",
    "p2 = Polynomial({0: -2, 1: 1})\n",
    "print(p1)\n",
    "print(p2)"
   ]
  },
  {
   "cell_type": "code",
   "execution_count": null,
   "metadata": {
    "collapsed": true
   },
   "outputs": [],
   "source": [
    "print(p1 + p2)\n",
    "print(p1 - p2)\n",
    "print(-p1 + p2)\n",
    "print(p1 * p2)\n",
    "print(p1 ** 2)\n",
    "print(p2 ** 3)\n",
    "print(p2 ** 0)"
   ]
  },
  {
   "cell_type": "code",
   "execution_count": null,
   "metadata": {
    "collapsed": true
   },
   "outputs": [],
   "source": [
    "del p1[1]\n",
    "print(p1)\n",
    "p1[1] = -1\n",
    "print(p1)\n",
    "print(p1[0])\n",
    "print(p1[10])"
   ]
  },
  {
   "cell_type": "code",
   "execution_count": null,
   "metadata": {
    "collapsed": true
   },
   "outputs": [],
   "source": [
    "p3 = p1 * p2\n",
    "print(p3)\n",
    "a = p3(0.5)\n",
    "print(a)"
   ]
  },
  {
   "cell_type": "markdown",
   "metadata": {},
   "source": [
    "### Упражнение 3. Вызов методов родительских классов\n",
    "\n",
    "Из классах `A`, `B` и `C` есть методы `f()` и `g()`, причем все методы `f()` вызывают метод `g()`. \n",
    "1. Допишите в методе `C.m()` вызовы методов `A.f()`, `B.f()`, `C.f()`. \n",
    "\n",
    "2. Модифицируйте методы `A.f()` и `B.f()` так, чтобы при вызове `X.f()`, `X.f()` вызывал `X.g()` (`X` -- это `A` или `B`)."
   ]
  },
  {
   "cell_type": "code",
   "execution_count": 7,
   "metadata": {},
   "outputs": [],
   "source": [
    "class A:\n",
    "    def f(self):\n",
    "        print(\"Method `f()` in class `A`\")\n",
    "        self.g()\n",
    "        \n",
    "    def g(self):\n",
    "        print(\"Method `g()` in class `A`\")\n",
    "        \n",
    "\n",
    "class B(A):\n",
    "    def f(self):\n",
    "        print(\"Method `f()` in class `B`\")\n",
    "        self.g()\n",
    "        \n",
    "    def g(self):\n",
    "        print(\"Method `g()` in class `B`\")\n",
    "        \n",
    "\n",
    "class C(B):\n",
    "    def f(self):\n",
    "        print(\"Method `f()` in class `C`\")\n",
    "        self.g()\n",
    "        \n",
    "    def g(self):\n",
    "        print(\"Method `g()` in class `C`\")\n",
    "        \n",
    "    def m(self):\n",
    "        A.f(self)\n",
    "        B.f(self)\n",
    "        self.f()\n",
    "        pass"
   ]
  },
  {
   "cell_type": "code",
   "execution_count": 8,
   "metadata": {},
   "outputs": [
    {
     "name": "stdout",
     "output_type": "stream",
     "text": [
      "Method `f()` in class `A`\n",
      "Method `g()` in class `C`\n",
      "Method `f()` in class `B`\n",
      "Method `g()` in class `C`\n",
      "Method `f()` in class `C`\n",
      "Method `g()` in class `C`\n"
     ]
    }
   ],
   "source": [
    "c = C()\n",
    "c.m()"
   ]
  },
  {
   "cell_type": "markdown",
   "metadata": {},
   "source": [
    "### Упражнение 4. Ромб смерти\n",
    "\n",
    "Из классов `A`, `B`, `C`, `D`, `E`, `F` составлен ромб сметри. Во всех классах есть метод `f()`. \n",
    "\n",
    "С помощью функции `super()` вызовите методы  `A.f()`, `B.f()`, `C.f()`, `D.f()`, `E.f()` в методе `m()`."
   ]
  },
  {
   "cell_type": "code",
   "execution_count": 39,
   "metadata": {},
   "outputs": [],
   "source": [
    "class A:\n",
    "    def f(self):\n",
    "        print(\"Method `f()` in class `A`\")\n",
    "\n",
    "\n",
    "class B(A):\n",
    "    def f(self):\n",
    "        print(\"Method `f()` in class `B`\")\n",
    "        \n",
    "\n",
    "class C(B):\n",
    "    def f(self):\n",
    "        print(\"Method `f()` in class `C`\")\n",
    "        \n",
    "        \n",
    "class D(A):\n",
    "    def f(self):\n",
    "        print(\"Method `f()` in class `D`\")\n",
    "        \n",
    "        \n",
    "class E(D):\n",
    "    def f(self):\n",
    "        print(\"Method `f()` in class `E`\")\n",
    "\n",
    "\n",
    "class F(C, E):\n",
    "    def f(self):\n",
    "        print(\"Method `f()` in class `F`\")\n",
    "        \n",
    "    def m(self):\n",
    "        super(C,self).f()\n",
    "        super(B,self).f()\n",
    "        super(D,self).f()\n",
    "        super(F,self).f()\n",
    "        super(E,self).f()\n",
    "        pass"
   ]
  },
  {
   "cell_type": "code",
   "execution_count": 40,
   "metadata": {},
   "outputs": [
    {
     "name": "stdout",
     "output_type": "stream",
     "text": [
      "Method `f()` in class `B`\n",
      "Method `f()` in class `E`\n",
      "Method `f()` in class `A`\n",
      "Method `f()` in class `C`\n",
      "Method `f()` in class `D`\n"
     ]
    }
   ],
   "source": [
    "f = F()\n",
    "f.m()"
   ]
  },
  {
   "cell_type": "code",
   "execution_count": null,
   "metadata": {},
   "outputs": [],
   "source": []
  }
 ],
 "metadata": {
  "kernelspec": {
   "display_name": "Python 3",
   "language": "python",
   "name": "python3"
  },
  "language_info": {
   "codemirror_mode": {
    "name": "ipython",
    "version": 3
   },
   "file_extension": ".py",
   "mimetype": "text/x-python",
   "name": "python",
   "nbconvert_exporter": "python",
   "pygments_lexer": "ipython3",
   "version": "3.6.5"
  }
 },
 "nbformat": 4,
 "nbformat_minor": 2
}
